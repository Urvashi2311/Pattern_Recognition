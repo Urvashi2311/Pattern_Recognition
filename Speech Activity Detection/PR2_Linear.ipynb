{
  "cells": [
    {
      "cell_type": "code",
      "source": [
        "from google.colab import drive\n",
        "drive.mount('/content/drive')"
      ],
      "metadata": {
        "colab": {
          "base_uri": "https://localhost:8080/"
        },
        "id": "IzJAeRH6PUAU",
        "outputId": "4c9f527d-1e15-4052-d8c1-066cade1014b"
      },
      "execution_count": null,
      "outputs": [
        {
          "output_type": "stream",
          "name": "stdout",
          "text": [
            "Drive already mounted at /content/drive; to attempt to forcibly remount, call drive.mount(\"/content/drive\", force_remount=True).\n"
          ]
        }
      ]
    },
    {
      "cell_type": "markdown",
      "source": [
        "## Importing ML Files"
      ],
      "metadata": {
        "id": "HrjXsYoZ6v-X"
      }
    },
    {
      "cell_type": "code",
      "execution_count": null,
      "metadata": {
        "id": "pOrWgeZUXkee"
      },
      "outputs": [],
      "source": [
        "import numpy as np\n",
        "import pandas as pd\n",
        "import matplotlib.pyplot as plt\n",
        "import math\n",
        "from matplotlib.colors import ListedColormap\n",
        "from tabulate import tabulate"
      ]
    },
    {
      "cell_type": "markdown",
      "source": [
        "## Plotting Sample Data"
      ],
      "metadata": {
        "id": "gQnzC7zI6555"
      }
    },
    {
      "cell_type": "code",
      "execution_count": null,
      "metadata": {
        "colab": {
          "base_uri": "https://localhost:8080/",
          "height": 282
        },
        "id": "rXBmLZcIaUut",
        "outputId": "e9f4f2f7-b3b4-4187-bf98-e466e6ebf485"
      },
      "outputs": [
        {
          "output_type": "execute_result",
          "data": {
            "text/plain": [
              "<matplotlib.legend.Legend at 0x7f9288ea14d0>"
            ]
          },
          "metadata": {},
          "execution_count": 4
        },
        {
          "output_type": "display_data",
          "data": {
            "text/plain": [
              "<Figure size 432x288 with 1 Axes>"
            ],
            "image/png": "[encoded data removed]"
          },
          "metadata": {
            "needs_background": "light"
          }
        }
      ],
      "source": [
        "plt.figure()\n",
        "linear_c1 = np.loadtxt('/content/drive/MyDrive/PR_A1_data/assign1_data/q2/l_class1.txt')\n",
        "linear_c2 = np.loadtxt('/content/drive/MyDrive/PR_A1_data/assign1_data/q2/l_class2.txt')\n",
        "linear_c3 = np.loadtxt('/content/drive/MyDrive/PR_A1_data/assign1_data/q2/l_class3.txt')\n",
        "plt.scatter(linear_c1[:,0],linear_c1[:,1])\n",
        "plt.scatter(linear_c2[:,0],linear_c2[:,1])\n",
        "plt.scatter(linear_c3[:,0],linear_c3[:,1])\n",
        "plt.legend([\"Class1\",\"Class2\",\"Class3\"])"
      ]
    },
    {
      "cell_type": "markdown",
      "metadata": {
        "id": "TMjPnZCT9a8S"
      },
      "source": [
        "# Train Test Data Split"
      ]
    },
    {
      "cell_type": "code",
      "execution_count": null,
      "metadata": {
        "id": "lg7wTHlEA0-G"
      },
      "outputs": [],
      "source": [
        "train_c1 = linear_c1[:250]\n",
        "test_c1 = linear_c1[250:]\n",
        "train_c1_f1 = linear_c1[:250,0]\n",
        "train_c1_f2 = linear_c1[:250,1]\n",
        "\n",
        "train_c2 = linear_c2[:250]\n",
        "test_c2 = linear_c2[250:]\n",
        "train_c2_f1 = linear_c2[:250,0]\n",
        "train_c2_f2 = linear_c2[:250,1]\n",
        "\n",
        "train_c3 = linear_c3[:250]\n",
        "test_c3 = linear_c3[250:]\n",
        "train_c3_f1 = linear_c3[:250,0]\n",
        "train_c3_f2 = linear_c3[:250,1]\n",
        "\n",
        "test_data =np.append(test_c1,test_c2, axis=0)\n",
        "test_data =np.append(test_data,test_c3, axis=0)\n",
        "# print(test_c1)"
      ]
    },
    {
      "cell_type": "markdown",
      "source": [
        "# Calculating Ground Truth"
      ],
      "metadata": {
        "id": "2v70xU0Q7DGh"
      }
    },
    {
      "cell_type": "code",
      "execution_count": null,
      "metadata": {
        "id": "_FY-QPMqwR72"
      },
      "outputs": [],
      "source": [
        "ground_truth =[]\n",
        "for i in range(250):\n",
        "  ground_truth.append(1)\n",
        "for i in range(250):\n",
        "  ground_truth.append(2)\n",
        "for i in range(250):\n",
        "  ground_truth.append(3)\n",
        "# print(ground_truth)"
      ]
    },
    {
      "cell_type": "markdown",
      "metadata": {
        "id": "fZ2NVl079myK"
      },
      "source": [
        "# Mean of each class"
      ]
    },
    {
      "cell_type": "code",
      "execution_count": null,
      "metadata": {
        "id": "o2hJC1Cp7EvH"
      },
      "outputs": [],
      "source": [
        "\n",
        "mean_c1 = np.mean(train_c1, axis=0)\n",
        "mean_c2 = np.mean(train_c2, axis=0)\n",
        "mean_c3 = np.mean(train_c3, axis=0)\n"
      ]
    },
    {
      "cell_type": "markdown",
      "metadata": {
        "id": "4-9GEo77-0OE"
      },
      "source": [
        "# Variance of each class"
      ]
    },
    {
      "cell_type": "code",
      "execution_count": null,
      "metadata": {
        "colab": {
          "base_uri": "https://localhost:8080/"
        },
        "id": "SFL2JWQR-2Jc",
        "outputId": "bd9773d3-ee13-465e-d468-d4c04e696b57"
      },
      "outputs": [
        {
          "output_type": "stream",
          "name": "stdout",
          "text": [
            "[6.02755383 2.77801584]\n"
          ]
        }
      ],
      "source": [
        "var_c1 = np.var(train_c1, axis=0)\n",
        "var_c2 = np.var(train_c2, axis=0)\n",
        "var_c3 = np.var(train_c3, axis=0)\n",
        "print(var_c1)"
      ]
    },
    {
      "cell_type": "markdown",
      "metadata": {
        "id": "eodn8Drw_JAZ"
      },
      "source": [
        "# Covarince"
      ]
    },
    {
      "cell_type": "code",
      "execution_count": null,
      "metadata": {
        "id": "hIsnlS2J_Ixr"
      },
      "outputs": [],
      "source": [
        "cov_c1 = np.cov(np.stack((train_c1_f1, train_c1_f2 ), axis = 0))\n",
        "cov_c2 = np.cov(np.stack((train_c2_f1, train_c2_f2 ), axis = 0))\n",
        "cov_c3 = np.cov(np.stack((train_c3_f1, train_c3_f2 ), axis = 0))\n",
        "\n",
        "# print(cov_c1)\n"
      ]
    },
    {
      "cell_type": "markdown",
      "metadata": {
        "id": "qTEr6-jg0xHb"
      },
      "source": [
        "# Prior Probability of the each Class\n"
      ]
    },
    {
      "cell_type": "code",
      "execution_count": null,
      "metadata": {
        "id": "vvjIVfzK0zkz"
      },
      "outputs": [],
      "source": [
        "prior_c1 = len(train_c1)/(len(train_c1)+len(train_c2)+len(train_c3))\n",
        "prior_c2 = len(train_c2)/(len(train_c1)+len(train_c2)+len(train_c3))\n",
        "prior_c3 = len(train_c3)/(len(train_c1)+len(train_c2)+len(train_c3))\n"
      ]
    },
    {
      "cell_type": "markdown",
      "source": [
        "# Normal Distribution Function"
      ],
      "metadata": {
        "id": "7xF57Wo57YGa"
      }
    },
    {
      "cell_type": "code",
      "execution_count": null,
      "metadata": {
        "id": "Sicze1iT_IwS"
      },
      "outputs": [],
      "source": [
        "def norm_pdf_multivariate(x, mu, sigma):  \n",
        "  det = np.linalg.det(sigma)\n",
        "  norm_const = 1/ ( (2*np.pi) * math.sqrt(det))\n",
        "  x_mu = x - mu\n",
        "  inv = np.linalg.inv(sigma)\n",
        "  x_mu_t =(x-mu).T  \n",
        "  z=np.dot(x_mu,np.dot(inv,x_mu_t))   \n",
        "  result = math.pow(math.e, -0.5 * (z))\n",
        "  return norm_const * result "
      ]
    },
    {
      "cell_type": "markdown",
      "source": [
        "# Predict Function"
      ],
      "metadata": {
        "id": "josK5cIU7mq6"
      }
    },
    {
      "cell_type": "code",
      "execution_count": null,
      "metadata": {
        "id": "OlqNxPyN8cVt"
      },
      "outputs": [],
      "source": [
        "def predict(testdata,cov_c1, cov_c2, cov_c3):\n",
        "  pdf_c1=[]\n",
        "  pdf_c2=[]\n",
        "  pdf_c3=[]\n",
        "  for x in testdata:\n",
        "    pdf_x_given_c1 = norm_pdf_multivariate(x, mean_c1, cov_c1)\n",
        "    pdf_c1.append(pdf_x_given_c1)\n",
        "    pdf_x_given_c2 = norm_pdf_multivariate(x, mean_c2, cov_c2)\n",
        "    pdf_c2.append(pdf_x_given_c2)\n",
        "    pdf_x_given_c3 = norm_pdf_multivariate(x, mean_c3, cov_c3)\n",
        "    pdf_c3.append(pdf_x_given_c3)\n",
        "  \n",
        "  evidence_x=[]\n",
        "  for i in range(len(testdata)):\n",
        "    evi = ((pdf_c1[i]*prior_c1) + (pdf_c2[i]*prior_c2) + (pdf_c3[i]*prior_c3))\n",
        "    evidence_x.append(evi)\n",
        "   \n",
        "  post_c1=[]\n",
        "  post_c2=[]\n",
        "  post_c3=[]\n",
        "  \n",
        "  for i in range(len(testdata)):\n",
        "    p_c1 = (pdf_c1[i] * prior_c1)/evidence_x[i]\n",
        "    post_c1.append(p_c1)\n",
        "    p_c2 = (pdf_c2[i] * prior_c2)/evidence_x[i]\n",
        "    post_c2.append(p_c2)\n",
        "    p_c3 = (pdf_c3[i] * prior_c3)/evidence_x[i]\n",
        "    post_c3.append(p_c3)\n",
        "  \n",
        "  pred=[]\n",
        "  for i in range(len(testdata)):\n",
        "    p = np.argmax([post_c1[i],post_c2[i],post_c3[i]])+1\n",
        "    pred.append(p)\n",
        "\n",
        "  return pred\n"
      ]
    },
    {
      "cell_type": "markdown",
      "source": [
        "#Accuracy"
      ],
      "metadata": {
        "id": "bWEBevcGIk31"
      }
    },
    {
      "cell_type": "code",
      "execution_count": null,
      "metadata": {
        "id": "6B4oHWg_0Aho"
      },
      "outputs": [],
      "source": [
        "def accuracy(c11,c22,c33):\n",
        "  return ((c11+c22+c33)/len(test_data))*100"
      ]
    },
    {
      "cell_type": "markdown",
      "source": [
        "#Precision"
      ],
      "metadata": {
        "id": "SPJ8M-iXIpeC"
      }
    },
    {
      "cell_type": "code",
      "execution_count": null,
      "metadata": {
        "id": "vuvmW4ci0U6x"
      },
      "outputs": [],
      "source": [
        "def prec(a, b, c):\n",
        "  return a/(a+b+c)"
      ]
    },
    {
      "cell_type": "markdown",
      "source": [
        "#Recall"
      ],
      "metadata": {
        "id": "FI9GK23jIxAV"
      }
    },
    {
      "cell_type": "code",
      "execution_count": null,
      "metadata": {
        "id": "cgmUbSTm2bjA"
      },
      "outputs": [],
      "source": [
        "def recall(a, b, c):\n",
        "  return a/(a+b+c)"
      ]
    },
    {
      "cell_type": "markdown",
      "source": [
        "#F-Measure "
      ],
      "metadata": {
        "id": "TeTdK3NMIz-d"
      }
    },
    {
      "cell_type": "code",
      "execution_count": null,
      "metadata": {
        "id": "M3FlNFvc3ans"
      },
      "outputs": [],
      "source": [
        "def fmeasure(p,r):\n",
        "  return (2*p*r)/(p+r)\n"
      ]
    },
    {
      "cell_type": "markdown",
      "source": [
        "#Confusion Matrix"
      ],
      "metadata": {
        "id": "1NB2nBTUI4G1"
      }
    },
    {
      "cell_type": "code",
      "execution_count": null,
      "metadata": {
        "id": "1QL_tSORxITi"
      },
      "outputs": [],
      "source": [
        "def confusion_matrix(case,pred):\n",
        "\n",
        "  C11=0\n",
        "  C12=0\n",
        "  C13=0\n",
        "  C21=0\n",
        "  C22=0\n",
        "  C23=0\n",
        "  C31=0\n",
        "  C32=0\n",
        "  C33=0\n",
        "  \n",
        "  for i in range(len(pred)):\n",
        "    if pred[i]==1 and ground_truth[i]==1:\n",
        "      C11+=1\n",
        "    elif pred[i]==1 and ground_truth[i]==2:\n",
        "      C12+=1 \n",
        "    elif pred[i]==1 and ground_truth[i]==3:\n",
        "      C13+=1 \n",
        "    elif pred[i]==2 and ground_truth[i]==1:\n",
        "      C21+=1 \n",
        "    elif pred[i]==2 and ground_truth[i]==2:\n",
        "      C22+=1 \n",
        "    elif pred[i]==2 and ground_truth[i]==3:\n",
        "      C23+=1 \n",
        "    elif pred[i]==3 and ground_truth[i]==1:\n",
        "      C31+=1 \n",
        "    elif pred[i]==3 and ground_truth[i]==2:\n",
        "      C32+=1 \n",
        "    elif pred[i]==3 and ground_truth[i]==3:\n",
        "      C33+=1 \n",
        "  \n",
        "  \n",
        "  result = []\n",
        "  result.append(case)\n",
        "\n",
        "  acc = accuracy(C11 , C22, C33)\n",
        "  result.append(acc)\n",
        "  \n",
        "  prec1 = prec(C11, C21, C31)  \n",
        "  prec2 = prec(C22, C12, C32)  \n",
        "  prec3 = prec(C33, C13, C23)\n",
        "  prec_mean= (prec1+prec2+prec3)/3\n",
        "  result.append(prec_mean)\n",
        "  \n",
        "  recall1 = recall(C11, C12, C13)  \n",
        "  recall2 = recall(C22, C21, C23)\n",
        "  recall3 = recall(C33, C31, C32)\n",
        "  recall_mean = (recall1+recall2+recall3)/3\n",
        "  result.append(recall_mean)\n",
        "\n",
        "  fm1 = fmeasure(prec1 , recall1)  \n",
        "  fm2 = fmeasure(prec2 , recall2)\n",
        "  fm3 = fmeasure(prec3 , recall3)\n",
        "  fscore = (fm1+fm2+fm3)/3\n",
        "  result.append(fscore)\n",
        "\n",
        "  return result\n",
        "\n",
        "\n"
      ]
    },
    {
      "cell_type": "code",
      "execution_count": null,
      "metadata": {
        "id": "lB7As1spajgF"
      },
      "outputs": [],
      "source": [
        "lminx = np.min([np.min(train_c1.T[0]),np.min(train_c2.T[0]),np.min(train_c3.T[0])])\n",
        "lmaxx = np.max([np.max(train_c1.T[0]),np.max(train_c2.T[0]),np.max(train_c3.T[0])])\n",
        "\n",
        "lminy = np.min([np.min(train_c1.T[1]),np.min(train_c2.T[1]),np.min(train_c3.T[1])])\n",
        "lmaxy = np.max([np.max(train_c1.T[1]),np.max(train_c2.T[1]),np.max(train_c3.T[1])])\n",
        "\n",
        "\n",
        "\n",
        "graphx , graphy = [], []\n",
        "\n",
        "\n",
        "for i in range(int(lminx), int(lmaxx)):\n",
        "  for j in range(int(lminy), int(lmaxy)):\n",
        "    graphx.append(i)\n",
        "    graphy.append(j)"
      ]
    },
    {
      "cell_type": "markdown",
      "metadata": {
        "id": "_a3zSidxtPui"
      },
      "source": [
        "#Classifier 1"
      ]
    },
    {
      "cell_type": "code",
      "execution_count": null,
      "metadata": {
        "colab": {
          "base_uri": "https://localhost:8080/"
        },
        "id": "Xbg-lSp6tPbV",
        "outputId": "4d33eb19-f1a8-4942-d773-480290e996ea"
      },
      "outputs": [
        {
          "output_type": "stream",
          "name": "stdout",
          "text": [
            "+--------------+-------+--------+----------+----------+\n",
            "| Classifier   |   Acc |   Prec |   Recall |   Fscore |\n",
            "+==============+=======+========+==========+==========+\n",
            "| C1           |   100 |      1 |        1 |        1 |\n",
            "+--------------+-------+--------+----------+----------+\n"
          ]
        }
      ],
      "source": [
        "avg_var = (var_c1+var_c2+var_c3)/3\n",
        "id= np.identity(2,dtype=\"float\")\n",
        "case1_cov=avg_var*id\n",
        "\n",
        "case1_pred = predict(test_data,case1_cov, case1_cov, case1_cov)\n",
        "\n",
        "res1 = confusion_matrix(\"C1\",case1_pred)\n",
        "\n",
        "head = [\"Classifier\",\"Acc\", \"Prec\",\"Recall\",\"Fscore\"]\n",
        "data = [res1]\n",
        "print(tabulate(data, headers=head, tablefmt=\"grid\"))"
      ]
    },
    {
      "cell_type": "markdown",
      "source": [
        "#Classifier 1 Plot"
      ],
      "metadata": {
        "id": "1vFX-mM1JAJW"
      }
    },
    {
      "cell_type": "code",
      "execution_count": null,
      "metadata": {
        "colab": {
          "base_uri": "https://localhost:8080/"
        },
        "id": "EGOBEaNpkUlv",
        "outputId": "e02f6147-5f48-4dad-e851-26de55aad88f"
      },
      "outputs": [
        {
          "output_type": "stream",
          "name": "stdout",
          "text": [
            "[3 3 3 ... 2 2 2]\n"
          ]
        },
        {
          "output_type": "display_data",
          "data": {
            "text/plain": [
              "<Figure size 432x288 with 1 Axes>"
            ],
            "image/png": "[encoded data removed]"
          },
          "metadata": {
            "needs_background": "light"
          }
        }
      ],
      "source": [
        "colors = ('red','blue','lightgreen','gray','cyan')\n",
        "cmap = ListedColormap(colors[:len(np.unique(graphy))])\n",
        "resolution =0.1\n",
        "\n",
        "xx1, xx2 = np.meshgrid(np.arange(lminx,lmaxx,resolution), np.arange(lminy,lmaxy,resolution))\n",
        "\n",
        "data = np.array([xx1.ravel(), xx2.ravel()]).T\n",
        "Z = np.array(predict(data,case1_cov, case1_cov, case1_cov))\n",
        "print(Z)\n",
        "Z = Z.reshape(xx1.shape)\n",
        "\n",
        "plt.contourf(xx1, xx2, Z, alpha=0.3, cmap=cmap)\n",
        "plt.xlim(xx1.min(),xx1.max())\n",
        "plt.ylim(xx2.min(),xx2.max())\n",
        "\n",
        "plt.scatter(train_c1[:,0], train_c1[:,1], marker='o', color=colors[0], label='Class1')\n",
        "plt.scatter(train_c2[:,0], train_c2[:,1], marker='o', color=colors[1], label='Class2')\n",
        "plt.scatter(train_c3[:,0], train_c3[:,1], marker='o', color=colors[2], label='Class3')\n",
        "plt.legend(loc='upper center', bbox_to_anchor=(0.5, -.08), ncol=2)\n",
        "\n",
        "plt.show()\n",
        "\n"
      ]
    },
    {
      "cell_type": "markdown",
      "metadata": {
        "id": "ve8O21TCH2fp"
      },
      "source": [
        "#Classifier 2\n"
      ]
    },
    {
      "cell_type": "code",
      "execution_count": null,
      "metadata": {
        "colab": {
          "base_uri": "https://localhost:8080/"
        },
        "id": "kpiQC_tHXF5a",
        "outputId": "272279b2-6802-4da3-d7ab-b55b27e9d5a3"
      },
      "outputs": [
        {
          "output_type": "stream",
          "name": "stdout",
          "text": [
            "+--------------+-------+--------+----------+----------+\n",
            "| Classifier   |   Acc |   Prec |   Recall |   Fscore |\n",
            "+==============+=======+========+==========+==========+\n",
            "| C2           |   100 |      1 |        1 |        1 |\n",
            "+--------------+-------+--------+----------+----------+\n"
          ]
        }
      ],
      "source": [
        "case2_cov = (cov_c1+cov_c2+cov_c3)/3\n",
        "case2_pred = predict(test_data,case2_cov, case2_cov, case2_cov)\n",
        "res2 = confusion_matrix(\"C2\",case2_pred)\n",
        "\n",
        "\n",
        "head = [\"Classifier\",\"Acc\", \"Prec\",\"Recall\",\"Fscore\"]\n",
        "data = [res2]\n",
        "print(tabulate(data, headers=head, tablefmt=\"grid\"))"
      ]
    },
    {
      "cell_type": "markdown",
      "source": [
        "#Classifier 2 Plot"
      ],
      "metadata": {
        "id": "ZN1L4s48JHrd"
      }
    },
    {
      "cell_type": "code",
      "execution_count": null,
      "metadata": {
        "colab": {
          "base_uri": "https://localhost:8080/"
        },
        "id": "tw66K6VPS9pu",
        "outputId": "6ab1fae7-d2ba-4de4-d261-738e2fbbd68d"
      },
      "outputs": [
        {
          "output_type": "stream",
          "name": "stdout",
          "text": [
            "[3 3 3 ... 2 2 2]\n"
          ]
        },
        {
          "output_type": "display_data",
          "data": {
            "text/plain": [
              "<Figure size 432x288 with 1 Axes>"
            ],
            "image/png": "[encoded data removed]"
          },
          "metadata": {
            "needs_background": "light"
          }
        }
      ],
      "source": [
        "colors = ('red','blue','lightgreen','gray','cyan')\n",
        "cmap = ListedColormap(colors[:len(np.unique(graphy))])\n",
        "resolution =0.1\n",
        "\n",
        "xx1, xx2 = np.meshgrid(np.arange(lminx,lmaxx,resolution), np.arange(lminy,lmaxy,resolution))\n",
        "\n",
        "data = np.array([xx1.ravel(), xx2.ravel()]).T\n",
        "Z = np.array(predict(data,case2_cov, case2_cov, case2_cov))\n",
        "print(Z)\n",
        "Z = Z.reshape(xx1.shape)\n",
        "\n",
        "plt.contourf(xx1, xx2, Z, alpha=0.3, cmap=cmap)\n",
        "plt.xlim(xx1.min(),xx1.max())\n",
        "plt.ylim(xx2.min(),xx2.max())\n",
        "\n",
        "plt.scatter(train_c1[:,0], train_c1[:,1], marker='o', color=colors[0], label='Class1')\n",
        "plt.scatter(train_c2[:,0], train_c2[:,1], marker='o', color=colors[1], label='Class2')\n",
        "plt.scatter(train_c3[:,0], train_c3[:,1], marker='o', color=colors[2], label='Class3')\n",
        "plt.legend(loc='upper center', bbox_to_anchor=(0.5, -.08), ncol=2)\n",
        "\n",
        "plt.show()\n",
        "\n"
      ]
    },
    {
      "cell_type": "markdown",
      "metadata": {
        "id": "0K5-loX8ZJwV"
      },
      "source": [
        "#Classifier 3"
      ]
    },
    {
      "cell_type": "code",
      "execution_count": null,
      "metadata": {
        "colab": {
          "base_uri": "https://localhost:8080/"
        },
        "id": "HY7NDxLKZOMi",
        "outputId": "83e66c3d-077e-4a70-e22a-fe564d7f3dc8"
      },
      "outputs": [
        {
          "output_type": "stream",
          "name": "stdout",
          "text": [
            "+--------------+-------+--------+----------+----------+\n",
            "| Classifier   |   Acc |   Prec |   Recall |   Fscore |\n",
            "+==============+=======+========+==========+==========+\n",
            "| C3           |   100 |      1 |        1 |        1 |\n",
            "+--------------+-------+--------+----------+----------+\n"
          ]
        }
      ],
      "source": [
        "cov_c1[0,1]=0\n",
        "cov_c1[1,0]=0\n",
        "cov_c2[0,1]=0\n",
        "cov_c2[1,0]=0\n",
        "cov_c3[0,1]=0\n",
        "cov_c3[1,0]=0\n",
        "\n",
        "case3_pred = predict(test_data,cov_c1, cov_c2, cov_c3)\n",
        "res3 = confusion_matrix(\"C3\",case3_pred)\n",
        "\n",
        "\n",
        "head = [\"Classifier\",\"Acc\", \"Prec\",\"Recall\",\"Fscore\"]\n",
        "data = [res3]\n",
        "print(tabulate(data, headers=head, tablefmt=\"grid\"))"
      ]
    },
    {
      "cell_type": "markdown",
      "source": [
        "#Classifier 3 Plot"
      ],
      "metadata": {
        "id": "TAzjvpWtJMvJ"
      }
    },
    {
      "cell_type": "code",
      "execution_count": null,
      "metadata": {
        "colab": {
          "base_uri": "https://localhost:8080/"
        },
        "id": "rBJg5CVyUxqn",
        "outputId": "498b3a84-9046-4db9-90e5-66349963255b"
      },
      "outputs": [
        {
          "output_type": "stream",
          "name": "stdout",
          "text": [
            "[3 3 3 ... 2 2 2]\n"
          ]
        },
        {
          "output_type": "display_data",
          "data": {
            "text/plain": [
              "<Figure size 432x288 with 1 Axes>"
            ],
            "image/png": "[encoded data removed]"
          },
          "metadata": {
            "needs_background": "light"
          }
        }
      ],
      "source": [
        "colors = ('red','blue','lightgreen','gray','cyan')\n",
        "cmap = ListedColormap(colors[:len(np.unique(graphy))])\n",
        "resolution =0.1\n",
        "\n",
        "xx1, xx2 = np.meshgrid(np.arange(lminx,lmaxx,resolution), np.arange(lminy,lmaxy,resolution))\n",
        "\n",
        "data = np.array([xx1.ravel(), xx2.ravel()]).T\n",
        "Z = np.array(predict(data,cov_c1, cov_c1, cov_c1))\n",
        "print(Z)\n",
        "Z = Z.reshape(xx1.shape)\n",
        "\n",
        "plt.contourf(xx1, xx2, Z, alpha=0.3, cmap=cmap)\n",
        "plt.xlim(xx1.min(),xx1.max())\n",
        "plt.ylim(xx2.min(),xx2.max())\n",
        "\n",
        "plt.scatter(train_c1[:,0], train_c1[:,1], marker='o', color=colors[0], label='Class1')\n",
        "plt.scatter(train_c2[:,0], train_c2[:,1], marker='o', color=colors[1], label='Class2')\n",
        "plt.scatter(train_c3[:,0], train_c3[:,1], marker='o', color=colors[2], label='Class3')\n",
        "plt.legend(loc='upper center', bbox_to_anchor=(0.5, -.08), ncol=2)\n",
        "\n",
        "plt.show()\n",
        "\n"
      ]
    },
    {
      "cell_type": "markdown",
      "metadata": {
        "id": "d1CiD6URZPHT"
      },
      "source": [
        "# Classifier 4"
      ]
    },
    {
      "cell_type": "code",
      "execution_count": null,
      "metadata": {
        "colab": {
          "base_uri": "https://localhost:8080/"
        },
        "id": "dtYsDH-lZRQH",
        "outputId": "56690d70-30d9-467b-dc06-a2dbd01890b0"
      },
      "outputs": [
        {
          "output_type": "stream",
          "name": "stdout",
          "text": [
            "+--------------+-------+--------+----------+----------+\n",
            "| Classifier   |   Acc |   Prec |   Recall |   Fscore |\n",
            "+==============+=======+========+==========+==========+\n",
            "| C4           |   100 |      1 |        1 |        1 |\n",
            "+--------------+-------+--------+----------+----------+\n"
          ]
        }
      ],
      "source": [
        "case4_cov_c1 = np.cov(np.stack((train_c1_f1, train_c1_f2 ), axis = 0))\n",
        "case4_cov_c2 = np.cov(np.stack((train_c2_f1, train_c2_f2 ), axis = 0))\n",
        "case4_cov_c3 = np.cov(np.stack((train_c3_f1, train_c3_f2 ), axis = 0))\n",
        "\n",
        "case4_pred = predict(test_data,case4_cov_c1, case4_cov_c2, case4_cov_c3)\n",
        "res4 = confusion_matrix(\"C4\",case4_pred)\n",
        "\n",
        "\n",
        "\n",
        "head = [\"Classifier\",\"Acc\", \"Prec\",\"Recall\",\"Fscore\"]\n",
        "data = [res4]\n",
        "print(tabulate(data, headers=head, tablefmt=\"grid\"))"
      ]
    },
    {
      "cell_type": "markdown",
      "source": [
        "#Classifier 4 Plot"
      ],
      "metadata": {
        "id": "8JRJfKrFJRH0"
      }
    },
    {
      "cell_type": "code",
      "execution_count": null,
      "metadata": {
        "colab": {
          "base_uri": "https://localhost:8080/",
          "height": 72
        },
        "id": "lulM51xvVcG1",
        "outputId": "60ad1687-d0ed-4073-d8cb-fefd82ab54c8"
      },
      "outputs": [
        {
          "output_type": "stream",
          "name": "stdout",
          "text": [
            "[3 3 3 ... 2 2 2]\n"
          ]
        },
        {
          "output_type": "display_data",
          "data": {
            "text/plain": [
              "<Figure size 432x288 with 1 Axes>"
            ],
            "image/png": "[encoded data removed]"
          },
          "metadata": {
            "needs_background": "light"
          }
        }
      ],
      "source": [
        "colors = ('red','blue','lightgreen','gray','cyan')\n",
        "cmap = ListedColormap(colors[:len(np.unique(graphy))])\n",
        "resolution =0.1\n",
        "\n",
        "xx1, xx2 = np.meshgrid(np.arange(lminx,lmaxx,resolution), np.arange(lminy,lmaxy,resolution))\n",
        "\n",
        "data = np.array([xx1.ravel(), xx2.ravel()]).T\n",
        "Z = np.array(predict(data,case4_cov_c1, case4_cov_c2, case4_cov_c3))\n",
        "print(Z)\n",
        "Z = Z.reshape(xx1.shape)\n",
        "\n",
        "plt.contourf(xx1, xx2, Z, alpha=0.3, cmap=cmap)\n",
        "plt.xlim(xx1.min(),xx1.max())\n",
        "plt.ylim(xx2.min(),xx2.max())\n",
        "\n",
        "plt.scatter(train_c1[:,0], train_c1[:,1], marker='o', color=colors[0], label='Class1')\n",
        "plt.scatter(train_c2[:,0], train_c2[:,1], marker='o', color=colors[1], label='Class2')\n",
        "plt.scatter(train_c3[:,0], train_c3[:,1], marker='o', color=colors[2], label='Class3')\n",
        "plt.legend(loc='upper center', bbox_to_anchor=(0.5, -.08), ncol=2)\n",
        "\n",
        "plt.show()\n",
        "\n"
      ]
    },
    {
      "cell_type": "markdown",
      "source": [
        "# Tabular Result"
      ],
      "metadata": {
        "id": "NDk_GsdQJUKR"
      }
    },
    {
      "cell_type": "code",
      "execution_count": null,
      "metadata": {
        "colab": {
          "base_uri": "https://localhost:8080/"
        },
        "id": "05eQr4WypoOZ",
        "outputId": "ad3dfd9d-280a-4a06-d789-c686d1bc049c"
      },
      "outputs": [
        {
          "output_type": "stream",
          "name": "stdout",
          "text": [
            "+--------------+-------+--------+----------+----------+\n",
            "| Classifier   |   Acc |   Prec |   Recall |   Fscore |\n",
            "+==============+=======+========+==========+==========+\n",
            "| C1           |   100 |      1 |        1 |        1 |\n",
            "+--------------+-------+--------+----------+----------+\n",
            "| C2           |   100 |      1 |        1 |        1 |\n",
            "+--------------+-------+--------+----------+----------+\n",
            "| C3           |   100 |      1 |        1 |        1 |\n",
            "+--------------+-------+--------+----------+----------+\n",
            "| C4           |   100 |      1 |        1 |        1 |\n",
            "+--------------+-------+--------+----------+----------+\n"
          ]
        }
      ],
      "source": [
        "head = [\"Classifier\",\"Acc\", \"Prec\",\"Recall\",\"Fscore\"]\n",
        "data = [res1,res2,res3,res4]\n",
        "print(tabulate(data, headers=head, tablefmt=\"grid\"))"
      ]
    },
    {
      "cell_type": "code",
      "execution_count": null,
      "metadata": {
        "id": "4w-zsWTXTTmx"
      },
      "outputs": [],
      "source": []
    }
  ],
  "metadata": {
    "colab": {
      "provenance": []
    },
    "kernelspec": {
      "display_name": "Python 3",
      "name": "python3"
    },
    "language_info": {
      "name": "python"
    }
  },
  "nbformat": 4,
  "nbformat_minor": 0
}